{
 "cells": [
  {
   "cell_type": "markdown",
   "metadata": {},
   "source": [
    "黒の出力が0、ニューロンが興奮していない\n",
    "\n",
    "白の力が1、ニューロンが興奮している"
   ]
  },
  {
   "cell_type": "code",
   "execution_count": 4,
   "metadata": {},
   "outputs": [
    {
     "data": {
      "image/png": "[encoded data removed]",
      "text/plain": [
       "<Figure size 432x288 with 2 Axes>"
      ]
     },
     "metadata": {
      "needs_background": "light"
     },
     "output_type": "display_data"
    }
   ],
   "source": [
    "import numpy as np\n",
    "import matplotlib.pyplot as plt\n",
    "\n",
    "x = np.arange(-1.0,1.0,0.2)\n",
    "y = np.arange(-1.0,1.0,0.2)\n",
    "z = np.zeros((10,10))\n",
    "\n",
    "wx = 2.5\n",
    "wy = 3.0\n",
    "bias = 1.0\n",
    "\n",
    "for i,a in enumerate(x):\n",
    "    for j,b in enumerate(y):\n",
    "        u = x[i]*wx + y[j]*wy + bias\n",
    "        tmp = 1/(1+np.exp(-u))\n",
    "        z[i][j] = tmp\n",
    "\n",
    "plt.imshow(z,'gray',vmin=0.0, vmax=1.0)\n",
    "plt.colorbar()\n",
    "plt.show()"
   ]
  },
  {
   "cell_type": "markdown",
   "metadata": {},
   "source": [
    "## 4.6.3ニューラルネットワークの実装\n",
    "\n",
    "中間層を導入するとニューロンがより複雑な条件で興奮することが確認できる。\n",
    "\n",
    "$$\n",
    "中間層:f(\\vec{u_j} = \\vec{x_j}w_{im}+\\vec{b_{im}})\n",
    "$$"
   ]
  },
  {
   "cell_type": "code",
   "execution_count": 8,
   "metadata": {},
   "outputs": [
    {
     "data": {
      "image/png": "[encoded data removed]",
      "text/plain": [
       "<Figure size 432x288 with 2 Axes>"
      ]
     },
     "metadata": {
      "needs_background": "light"
     },
     "output_type": "display_data"
    }
   ],
   "source": [
    "import numpy as np\n",
    "import matplotlib.pyplot as plt\n",
    "\n",
    "x = np.arange(-1.0,1.0,0.2)\n",
    "y = np.arange(-1.0,1.0,0.2)\n",
    "z = np.zeros((10,10))\n",
    "\n",
    "w_im = np.array([[4.0,4.0],[4.0,4.0]])\n",
    "w_mo = np.array([[1.0],[-1.0]])\n",
    "\n",
    "b_im = np.array([3,-3])\n",
    "b_mo = np.array([0.1])\n",
    "\n",
    "def middle_layer(x, w, b):\n",
    "    u = np.dot(x,w) + b\n",
    "    return 1/(1+np.exp(-u))\n",
    "\n",
    "def output_layer(x, w, b):\n",
    "    u = np.dot(x, w) + b\n",
    "    return u\n",
    "\n",
    "for i,a in enumerate(x):\n",
    "    for j,b in enumerate(y):\n",
    "        inp = np.array([x[i],y[j]])\n",
    "        mid = middle_layer(inp, w_im, b_im)\n",
    "        out = output_layer(mid, w_mo, b_mo)\n",
    "        \n",
    "        z[i][j] = out[0]\n",
    "\n",
    "plt.imshow(z,'gray',vmin=0.0, vmax=1.0)\n",
    "plt.colorbar()\n",
    "plt.show()"
   ]
  },
  {
   "cell_type": "markdown",
   "metadata": {},
   "source": [
    "## ニューラルネットワーク(分類)\n",
    "\n",
    "$$\n",
    "w_{im} = \\left(\n",
    "    \\begin{array}{ccc}\n",
    "      1 & 2 \\\\\n",
    "      2 & 3 \\\\\n",
    "    \\end{array}\n",
    "  \\right)\n",
    "$$\n",
    "\n",
    "$$\n",
    "w_{mo} = \\left(\n",
    "    \\begin{array}{ccc}\n",
    "      -1 & 1 \\\\\n",
    "      1 & -1 \\\\\n",
    "    \\end{array}\n",
    "  \\right)\n",
    "$$"
   ]
  },
  {
   "cell_type": "code",
   "execution_count": 7,
   "metadata": {},
   "outputs": [
    {
     "data": {
      "image/png": "[encoded data removed]",
      "text/plain": [
       "<Figure size 432x288 with 1 Axes>"
      ]
     },
     "metadata": {
      "needs_background": "light"
     },
     "output_type": "display_data"
    }
   ],
   "source": [
    "import numpy as np\n",
    "import matplotlib.pyplot as plt\n",
    "\n",
    "X = np.arange(-1.0,1.0,0.1)\n",
    "Y = np.arange(-1.0,1.0,0.1)\n",
    "\n",
    "w_im = np.array([[1,2],[2,3]])\n",
    "w_mo = np.array([[-1,1],[1,-1]])\n",
    "\n",
    "b_im = np.array([0.3,-0.3])\n",
    "b_mo = np.array([0.4,0.1])\n",
    "\n",
    "def middle_layer(x, w, b):\n",
    "    u = np.dot(x, w) + b\n",
    "    return 1/(1+np.exp(-u))\n",
    "\n",
    "def output_layer(x, w, b):\n",
    "    u = np.dot(x, w) + b\n",
    "    return np.exp(u)/np.sum(np.exp(u))\n",
    "\n",
    "x_1 =[]\n",
    "y_1 =[]\n",
    "x_2 =[]\n",
    "y_2 =[]\n",
    "\n",
    "for i in range(20):\n",
    "    for j in range(20):\n",
    "        inp = np.array([X[i], Y[j]])\n",
    "        mid = middle_layer(inp, w_im, b_im)\n",
    "        out = output_layer(mid, w_mo, b_mo)\n",
    "        \n",
    "        if out[0] > out[1]:\n",
    "            x_1.append(X[i])\n",
    "            y_1.append(Y[j])\n",
    "        else:\n",
    "            x_2.append(X[i])\n",
    "            y_2.append(Y[j])\n",
    "            \n",
    "plt.scatter(x_1, y_1, marker='+')\n",
    "plt.scatter(x_2, y_2, marker='o')\n",
    "plt.show()"
   ]
  },
  {
   "cell_type": "code",
   "execution_count": null,
   "metadata": {},
   "outputs": [],
   "source": []
  }
 ],
 "metadata": {
  "kernelspec": {
   "display_name": "Python 3",
   "language": "python",
   "name": "python3"
  },
  "language_info": {
   "codemirror_mode": {
    "name": "ipython",
    "version": 3
   },
   "file_extension": ".py",
   "mimetype": "text/x-python",
   "name": "python",
   "nbconvert_exporter": "python",
   "pygments_lexer": "ipython3",
   "version": "3.8.3"
  }
 },
 "nbformat": 4,
 "nbformat_minor": 2
}
