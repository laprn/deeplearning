{
 "cells": [
  {
   "cell_type": "code",
   "execution_count": 2,
   "metadata": {},
   "outputs": [
    {
     "data": {
      "image/png": "[encoded data removed]",
      "text/plain": [
       "<Figure size 432x288 with 2 Axes>"
      ]
     },
     "metadata": {
      "needs_background": "light"
     },
     "output_type": "display_data"
    }
   ],
   "source": [
    "import numpy as np\n",
    "import matplotlib.pyplot as plt\n",
    "\n",
    "x = np.arange(-1.0,1.0,0.2)\n",
    "y = np.arange(-1.0,1.0,0.2)\n",
    "z = np.zeros((10,10))\n",
    "\n",
    "wx = 5\n",
    "wy = 2\n",
    "bias = 2.0\n",
    "\n",
    "for i,a in enumerate(x):\n",
    "    for j,b in enumerate(y):\n",
    "        u = x[i]*wx + y[j]*wy + bias\n",
    "        tmp = 1/(1+np.exp(-u))\n",
    "        z[i][j] = tmp\n",
    "\n",
    "plt.imshow(z,'gray',vmin=0.0, vmax=1.0)\n",
    "plt.colorbar()\n",
    "plt.show()"
   ]
  },
  {
   "cell_type": "code",
   "execution_count": 34,
   "metadata": {},
   "outputs": [
    {
     "data": {
      "image/png": "[encoded data removed]",
      "text/plain": [
       "<Figure size 432x288 with 2 Axes>"
      ]
     },
     "metadata": {
      "needs_background": "light"
     },
     "output_type": "display_data"
    }
   ],
   "source": [
    "import numpy as np\n",
    "import matplotlib.pyplot as plt\n",
    "\n",
    "x = np.arange(-1.0,1.0,0.2)\n",
    "y = np.arange(-1.0,1.0,0.2)\n",
    "z = np.zeros((10,10))\n",
    "\n",
    "w_im = np.array([[-4,3],[4,9]])\n",
    "w_mo = np.array([[1,10],[-13,0]])\n",
    "\n",
    "b_im = np.array([3,-3])\n",
    "b_mo = np.array([0.1])\n",
    "\n",
    "def middle_layer(x, w, b):\n",
    "    u = np.dot(x,w) + b\n",
    "    return 1/(1+np.exp(-u))\n",
    "\n",
    "def output_layer(x, w, b):\n",
    "    u = np.dot(x, w) + b\n",
    "    return u\n",
    "\n",
    "for i,a in enumerate(x):\n",
    "    for j,b in enumerate(y):\n",
    "        inp = np.array([x[i],y[j]])\n",
    "        mid = middle_layer(inp, w_im, b_im)\n",
    "        out = output_layer(mid, w_mo, b_mo)\n",
    "        \n",
    "        z[i][j] = out[0]\n",
    "\n",
    "\n",
    "plt.imshow(z,'gray',vmin=0.0, vmax=1.0)\n",
    "plt.colorbar()\n",
    "plt.show()"
   ]
  },
  {
   "cell_type": "code",
   "execution_count": null,
   "metadata": {},
   "outputs": [],
   "source": []
  }
 ],
 "metadata": {
  "kernelspec": {
   "display_name": "Python 3",
   "language": "python",
   "name": "python3"
  },
  "language_info": {
   "codemirror_mode": {
    "name": "ipython",
    "version": 3
   },
   "file_extension": ".py",
   "mimetype": "text/x-python",
   "name": "python",
   "nbconvert_exporter": "python",
   "pygments_lexer": "ipython3",
   "version": "3.8.3"
  }
 },
 "nbformat": 4,
 "nbformat_minor": 2
}
