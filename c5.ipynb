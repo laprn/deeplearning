{
 "cells": [
  {
   "cell_type": "markdown",
   "metadata": {},
   "source": [
    "## 5.1 学習則\n",
    "\n",
    "ニューラルネットワークにおいて、結合強度(重み・バイアス)などを変えていき、正解に近づかせるプロセスを**学習**という。\n",
    "学習時にどのように結合強度が変更されるかを記述した法則を**学習則**という。\n",
    "代表的な学習則に、ヘッブ則とデルタ則がある。\n",
    "* ヘッブ則\n",
    "* デルタ則\n",
    "\n",
    "### ヘッブ則\n",
    "\n",
    "### デルタ則"
   ]
  },
  {
   "cell_type": "code",
   "execution_count": null,
   "metadata": {},
   "outputs": [],
   "source": []
  }
 ],
 "metadata": {
  "kernelspec": {
   "display_name": "Python 3",
   "language": "python",
   "name": "python3"
  },
  "language_info": {
   "codemirror_mode": {
    "name": "ipython",
    "version": 3
   },
   "file_extension": ".py",
   "mimetype": "text/x-python",
   "name": "python",
   "nbconvert_exporter": "python",
   "pygments_lexer": "ipython3",
   "version": "3.8.3"
  }
 },
 "nbformat": 4,
 "nbformat_minor": 4
}
